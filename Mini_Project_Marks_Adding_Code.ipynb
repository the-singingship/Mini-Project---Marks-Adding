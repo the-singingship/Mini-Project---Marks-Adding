{
  "nbformat": 4,
  "nbformat_minor": 0,
  "metadata": {
    "colab": {
      "provenance": [],
      "authorship_tag": "ABX9TyMJm9377hTNFhmWGtvy3XX7",
      "include_colab_link": true
    },
    "kernelspec": {
      "name": "python3",
      "display_name": "Python 3"
    },
    "language_info": {
      "name": "python"
    }
  },
  "cells": [
    {
      "cell_type": "markdown",
      "metadata": {
        "id": "view-in-github",
        "colab_type": "text"
      },
      "source": [
        "<a href=\"https://colab.research.google.com/github/the-singingship/Mini-Project-04-Marks-Adding/blob/main/Mini_Project_Marks_Adding_Code.ipynb\" target=\"_parent\"><img src=\"https://colab.research.google.com/assets/colab-badge.svg\" alt=\"Open In Colab\"/></a>"
      ]
    },
    {
      "cell_type": "markdown",
      "source": [
        "# Mini Project - Text File Conversion"
      ],
      "metadata": {
        "id": "iFiSke0jFFaz"
      }
    },
    {
      "cell_type": "markdown",
      "source": [
        "Input file contain Roll numbers and marks.\n",
        "Create output file that add all the marks."
      ],
      "metadata": {
        "id": "Y03i38joFRC3"
      }
    },
    {
      "cell_type": "code",
      "source": [
        "import csv\n",
        "\n",
        "def marks_adding(input_file, output_file):\n",
        "    marks_dict = {}\n",
        "    f=open(input_file, 'r')\n",
        "    freader = csv.reader(f)\n",
        "    next(freader)  # Skip the header row\n",
        "    for row in freader:\n",
        "      roll_num, mark = row\n",
        "      mark = int(mark)\n",
        "      if roll_num in marks_dict:\n",
        "        marks_dict[roll_num] += mark\n",
        "      else:\n",
        "        marks_dict[roll_num] = mark\n",
        "\n",
        "    f2 = open(output_file, 'w', newline='')\n",
        "    fwriter = csv.writer(f2)\n",
        "    fwriter.writerow([\"Roll Number\", \"Total Marks\"])  # Write the header row\n",
        "    for roll_num, mark in marks_dict.items():\n",
        "        fwriter.writerow([roll_num, mark])\n",
        "\n",
        "\n",
        "input_file = \"Mini Project - Marks Adding.csv\"\n",
        "output_file = \"output.csv\"\n",
        "marks_adding(input_file, output_file)"
      ],
      "metadata": {
        "id": "gEohysL9FeHg"
      },
      "execution_count": null,
      "outputs": []
    }
  ]
}